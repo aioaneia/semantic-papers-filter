{
  "cells": [
    {
      "metadata": {
        "id": "e5ca7b1a7c9b7587"
      },
      "cell_type": "markdown",
      "source": [
        "## Semantic Virology Papers Filter"
      ],
      "id": "e5ca7b1a7c9b7587"
    },
    {
      "cell_type": "markdown",
      "source": [
        "Clone the repository https://github.com/aioaneia/semantic-papers-filter"
      ],
      "metadata": {
        "id": "v5NUJgxRLncs"
      },
      "id": "v5NUJgxRLncs"
    },
    {
      "cell_type": "code",
      "source": [
        "! git clone https://github.com/aioaneia/semantic-papers-filter"
      ],
      "metadata": {
        "id": "vIZzKGFsLj0O"
      },
      "id": "vIZzKGFsLj0O",
      "execution_count": null,
      "outputs": []
    },
    {
      "cell_type": "code",
      "source": [
        "cd /src"
      ],
      "metadata": {
        "id": "MiAGC-OtSWsu"
      },
      "id": "MiAGC-OtSWsu",
      "execution_count": null,
      "outputs": []
    },
    {
      "cell_type": "markdown",
      "source": [
        "Import modules"
      ],
      "metadata": {
        "id": "WMJTm7PpSnnw"
      },
      "id": "WMJTm7PpSnnw"
    },
    {
      "cell_type": "code",
      "source": [
        "import sys\n",
        "sys.path.append('/src/.')"
      ],
      "metadata": {
        "id": "aGbn_rLDS2qQ"
      },
      "id": "aGbn_rLDS2qQ",
      "execution_count": null,
      "outputs": []
    },
    {
      "metadata": {
        "id": "4f6eb18d2b86594e",
        "outputId": "e12ecd66-6078-40d6-ad1a-e8b345d68692",
        "colab": {
          "base_uri": "https://localhost:8080/",
          "height": 393
        }
      },
      "cell_type": "code",
      "source": [
        "import yaml\n",
        "\n",
        "from src.data.data_loader import DataLoader\n",
        "from src.data.preprocessor import Preprocessor\n",
        "from src.filters.nlp_semantic_filter import SemanticFilter\n",
        "from src.filters.llm_semantic_filter import PaperClassifier\n",
        "from src.pipelines.llm_pipeline import Pipeline\n",
        "\n",
        "# Load configuration\n",
        "with open('../config.yaml', 'r') as config_file:\n",
        "    config = yaml.safe_load(config_file)\n",
        "\n",
        "# Initialize components\n",
        "data_loader     = DataLoader(config['DATASET_PATH'])\n",
        "preprocessor    = Preprocessor()\n",
        "nlp_classifier  = SemanticFilter()\n",
        "llm_classifier  = PaperClassifier()\n",
        "\n",
        "# Create and run pipeline\n",
        "pipeline = Pipeline(\n",
        "    data_loader,\n",
        "    preprocessor,\n",
        "    nlp_classifier,\n",
        "    llm_classifier\n",
        ")\n",
        "\n",
        "print(\"Processing papers...\")\n",
        "\n",
        "# Process papers using NLP pipeline\n",
        "pipeline.process_by_nlp(limit=10)\n",
        "\n",
        "print(\"Saving results...\")\n",
        "pipeline.save_results(\"../results\", \"nlp\")\n",
        "\n",
        "print(\"Processing complete.\")"
      ],
      "id": "4f6eb18d2b86594e",
      "outputs": [
        {
          "output_type": "error",
          "ename": "ModuleNotFoundError",
          "evalue": "No module named 'src'",
          "traceback": [
            "\u001b[0;31m---------------------------------------------------------------------------\u001b[0m",
            "\u001b[0;31mModuleNotFoundError\u001b[0m                       Traceback (most recent call last)",
            "\u001b[0;32m<ipython-input-1-ce3a6b98b3c8>\u001b[0m in \u001b[0;36m<cell line: 3>\u001b[0;34m()\u001b[0m\n\u001b[1;32m      1\u001b[0m \u001b[0;32mimport\u001b[0m \u001b[0myaml\u001b[0m\u001b[0;34m\u001b[0m\u001b[0;34m\u001b[0m\u001b[0m\n\u001b[1;32m      2\u001b[0m \u001b[0;34m\u001b[0m\u001b[0m\n\u001b[0;32m----> 3\u001b[0;31m \u001b[0;32mfrom\u001b[0m \u001b[0msrc\u001b[0m\u001b[0;34m.\u001b[0m\u001b[0mdata\u001b[0m\u001b[0;34m.\u001b[0m\u001b[0mdata_loader\u001b[0m \u001b[0;32mimport\u001b[0m \u001b[0mDataLoader\u001b[0m\u001b[0;34m\u001b[0m\u001b[0;34m\u001b[0m\u001b[0m\n\u001b[0m\u001b[1;32m      4\u001b[0m \u001b[0;32mfrom\u001b[0m \u001b[0msrc\u001b[0m\u001b[0;34m.\u001b[0m\u001b[0mdata\u001b[0m\u001b[0;34m.\u001b[0m\u001b[0mpreprocessor\u001b[0m \u001b[0;32mimport\u001b[0m \u001b[0mPreprocessor\u001b[0m\u001b[0;34m\u001b[0m\u001b[0;34m\u001b[0m\u001b[0m\n\u001b[1;32m      5\u001b[0m \u001b[0;32mfrom\u001b[0m \u001b[0msrc\u001b[0m\u001b[0;34m.\u001b[0m\u001b[0mfilters\u001b[0m\u001b[0;34m.\u001b[0m\u001b[0mnlp_semantic_filter\u001b[0m \u001b[0;32mimport\u001b[0m \u001b[0mSemanticFilter\u001b[0m\u001b[0;34m\u001b[0m\u001b[0;34m\u001b[0m\u001b[0m\n",
            "\u001b[0;31mModuleNotFoundError\u001b[0m: No module named 'src'",
            "",
            "\u001b[0;31m---------------------------------------------------------------------------\u001b[0;32m\nNOTE: If your import is failing due to a missing package, you can\nmanually install dependencies using either !pip or !apt.\n\nTo view examples of installing some common dependencies, click the\n\"Open Examples\" button below.\n\u001b[0;31m---------------------------------------------------------------------------\u001b[0m\n"
          ],
          "errorDetails": {
            "actions": [
              {
                "action": "open_url",
                "actionText": "Open Examples",
                "url": "/notebooks/snippets/importing_libraries.ipynb"
              }
            ]
          }
        }
      ],
      "execution_count": 1
    },
    {
      "metadata": {
        "id": "39d0dbb600a70e33"
      },
      "cell_type": "markdown",
      "source": [
        "### Plot and save statistics"
      ],
      "id": "39d0dbb600a70e33"
    },
    {
      "metadata": {
        "ExecuteTime": {
          "end_time": "2024-11-01T10:31:00.582274Z",
          "start_time": "2024-11-01T10:31:00.138568Z"
        },
        "id": "19495c64693fcbdd",
        "outputId": "2ec9bdbe-8e64-4227-81b1-350cde3832b3"
      },
      "cell_type": "code",
      "source": [
        "pipeline.plot_statistics(\"../results\")"
      ],
      "id": "19495c64693fcbdd",
      "outputs": [
        {
          "data": {
            "text/plain": [
              "<Figure size 800x600 with 1 Axes>"
            ],
            "image/png": "[encoded data removed]"
          },
          "metadata": {},
          "output_type": "display_data"
        },
        {
          "name": "stdout",
          "output_type": "stream",
          "text": [
            "Total papers processed: 11450\n",
            "Total relevant papers: 8\n",
            "Relevance percentage: 0.07%\n",
            "\n",
            "Method distribution:\n",
            "- computer_vision: 6 papers (75.0%)\n",
            "- both: 2 papers (25.0%)\n",
            "\n",
            "Top Method Names by Year:\n",
            "\n",
            "Year: 2024\n",
            "- : 3 occurrences\n",
            "- deep learning: 1 occurrences\n",
            "- deep-learning, encoder, decoder: 1 occurrences\n",
            "- neural network, deep learning: 1 occurrences\n",
            "- cnn, neural network, convolutional neural network: 1 occurrences\n"
          ]
        }
      ],
      "execution_count": null
    }
  ],
  "metadata": {
    "kernelspec": {
      "display_name": "Python 3",
      "language": "python",
      "name": "python3"
    },
    "language_info": {
      "codemirror_mode": {
        "name": "ipython",
        "version": 2
      },
      "file_extension": ".py",
      "mimetype": "text/x-python",
      "name": "python",
      "nbconvert_exporter": "python",
      "pygments_lexer": "ipython2",
      "version": "2.7.6"
    },
    "colab": {
      "provenance": []
    }
  },
  "nbformat": 4,
  "nbformat_minor": 5
}