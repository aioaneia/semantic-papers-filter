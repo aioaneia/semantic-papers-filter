{
  "cells": [
    {
      "cell_type": "markdown",
      "source": [
        "[![Open In Colab](https://colab.research.google.com/assets/colab-badge.svg)](https://colab.research.google.com/github/aioaneia/semantic-papers-filter/blob/main/notebooks/exploration.ipynb)"
      ],
      "metadata": {
        "id": "tPOM8iarW7Tb"
      },
      "id": "tPOM8iarW7Tb"
    },
    {
      "metadata": {
        "id": "e5ca7b1a7c9b7587"
      },
      "cell_type": "markdown",
      "source": [
        "# Semantic Filter for Virology Papers"
      ],
      "id": "e5ca7b1a7c9b7587"
    },
    {
      "cell_type": "markdown",
      "source": [
        "### **Clone** the repository https://github.com/aioaneia/semantic-papers-filter.git"
      ],
      "metadata": {
        "id": "v5NUJgxRLncs"
      },
      "id": "v5NUJgxRLncs"
    },
    {
      "cell_type": "code",
      "source": [
        "! git clone https://github.com/aioaneia/semantic-papers-filter.git"
      ],
      "metadata": {
        "colab": {
          "base_uri": "https://localhost:8080/"
        },
        "id": "vIZzKGFsLj0O",
        "outputId": "6e53b481-48e7-4d23-ec00-881778cd24bb"
      },
      "id": "vIZzKGFsLj0O",
      "execution_count": 8,
      "outputs": [
        {
          "output_type": "stream",
          "name": "stdout",
          "text": [
            "Cloning into 'semantic-papers-filter'...\n",
            "fatal: could not read Username for 'https://github.com': No such device or address\n"
          ]
        }
      ]
    },
    {
      "cell_type": "code",
      "source": [
        "cd /content/semantic-papers-filter"
      ],
      "metadata": {
        "colab": {
          "base_uri": "https://localhost:8080/"
        },
        "id": "MiAGC-OtSWsu",
        "outputId": "e1f46bea-68af-4ce3-f1bb-7744c4211266"
      },
      "id": "MiAGC-OtSWsu",
      "execution_count": 7,
      "outputs": [
        {
          "output_type": "stream",
          "name": "stdout",
          "text": [
            "[Errno 2] No such file or directory: '/content/semantic-papers-filter'\n",
            "/content\n"
          ]
        }
      ]
    },
    {
      "cell_type": "markdown",
      "source": [
        "### Import modules"
      ],
      "metadata": {
        "id": "WMJTm7PpSnnw"
      },
      "id": "WMJTm7PpSnnw"
    },
    {
      "cell_type": "code",
      "source": [
        "import sys\n",
        "sys.path.append('/src/.')\n",
        "\n",
        "import main.PaperFilteringApp as PaperFilteringApp"
      ],
      "metadata": {
        "id": "aGbn_rLDS2qQ"
      },
      "id": "aGbn_rLDS2qQ",
      "execution_count": null,
      "outputs": []
    },
    {
      "cell_type": "markdown",
      "source": [
        "### Run the application."
      ],
      "metadata": {
        "id": "Je_HvDrle8FE"
      },
      "id": "Je_HvDrle8FE"
    },
    {
      "metadata": {
        "id": "4f6eb18d2b86594e"
      },
      "cell_type": "code",
      "source": [
        "app = PaperFilteringApp(\n",
        "  '../config.yaml'\n",
        ")\n",
        "\n",
        "app.run()"
      ],
      "id": "4f6eb18d2b86594e",
      "outputs": [],
      "execution_count": null
    },
    {
      "metadata": {
        "id": "39d0dbb600a70e33"
      },
      "cell_type": "markdown",
      "source": [
        "## Plot and save statistics"
      ],
      "id": "39d0dbb600a70e33"
    },
    {
      "metadata": {
        "ExecuteTime": {
          "end_time": "2024-11-01T10:31:00.582274Z",
          "start_time": "2024-11-01T10:31:00.138568Z"
        },
        "id": "19495c64693fcbdd"
      },
      "cell_type": "code",
      "source": [
        "pipeline.plot_statistics(\"../results\")"
      ],
      "id": "19495c64693fcbdd",
      "outputs": [],
      "execution_count": null
    }
  ],
  "metadata": {
    "kernelspec": {
      "display_name": "Python 3",
      "language": "python",
      "name": "python3"
    },
    "language_info": {
      "codemirror_mode": {
        "name": "ipython",
        "version": 2
      },
      "file_extension": ".py",
      "mimetype": "text/x-python",
      "name": "python",
      "nbconvert_exporter": "python",
      "pygments_lexer": "ipython2",
      "version": "2.7.6"
    },
    "colab": {
      "provenance": []
    }
  },
  "nbformat": 4,
  "nbformat_minor": 5
}