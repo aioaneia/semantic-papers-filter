{
  "cells": [
    {
      "cell_type": "markdown",
      "source": [
        "[![Open In Colab](https://colab.research.google.com/assets/colab-badge.svg)](https://colab.research.google.com/github/aioaneia/semantic-papers-filter/blob/main/notebooks/exploration.ipynb)"
      ],
      "metadata": {
        "id": "tPOM8iarW7Tb"
      },
      "id": "tPOM8iarW7Tb"
    },
    {
      "metadata": {
        "id": "e5ca7b1a7c9b7587"
      },
      "cell_type": "markdown",
      "source": [
        "# Semantic NLP Filter for Deep Learning Papers in Virology and Epidemiology"
      ],
      "id": "e5ca7b1a7c9b7587"
    },
    {
      "cell_type": "markdown",
      "source": [
        "### **Clone** the repository https://github.com/aioaneia/semantic-papers-filter.git"
      ],
      "metadata": {
        "id": "v5NUJgxRLncs"
      },
      "id": "v5NUJgxRLncs"
    },
    {
      "cell_type": "code",
      "source": [
        "! git clone https://github.com/aioaneia/semantic-papers-filter.git"
      ],
      "metadata": {
        "id": "vIZzKGFsLj0O"
      },
      "id": "vIZzKGFsLj0O",
      "execution_count": null,
      "outputs": []
    },
    {
      "cell_type": "code",
      "source": [
        "! pip install kaleido"
      ],
      "metadata": {
        "id": "QSm7p5Lx1EvO"
      },
      "id": "QSm7p5Lx1EvO",
      "execution_count": null,
      "outputs": []
    },
    {
      "cell_type": "markdown",
      "source": [
        "### Get the lastest code from main branch"
      ],
      "metadata": {
        "id": "2OfuAWLLyq54"
      },
      "id": "2OfuAWLLyq54"
    },
    {
      "cell_type": "code",
      "source": [
        "\n",
        "!cd semantic-papers-filter && git checkout main && git pull origin main\n"
      ],
      "metadata": {
        "id": "IgZDrInPyf2V"
      },
      "id": "IgZDrInPyf2V",
      "execution_count": null,
      "outputs": []
    },
    {
      "cell_type": "markdown",
      "source": [
        "### Move to the source folder"
      ],
      "metadata": {
        "id": "NOM1b2A50FIl"
      },
      "id": "NOM1b2A50FIl"
    },
    {
      "cell_type": "code",
      "source": [
        "cd /content/semantic-papers-filter/src/"
      ],
      "metadata": {
        "id": "MiAGC-OtSWsu"
      },
      "id": "MiAGC-OtSWsu",
      "execution_count": null,
      "outputs": []
    },
    {
      "cell_type": "markdown",
      "source": [
        "### Import modules"
      ],
      "metadata": {
        "id": "WMJTm7PpSnnw"
      },
      "id": "WMJTm7PpSnnw"
    },
    {
      "cell_type": "code",
      "source": [
        "import sys\n",
        "sys.path.append('/content/semantic-papers-filter/.')\n",
        "\n",
        "from src.main import PaperFilteringApp"
      ],
      "metadata": {
        "id": "aGbn_rLDS2qQ"
      },
      "id": "aGbn_rLDS2qQ",
      "execution_count": 7,
      "outputs": []
    },
    {
      "cell_type": "markdown",
      "source": [
        "### Initialise the application."
      ],
      "metadata": {
        "id": "Je_HvDrle8FE"
      },
      "id": "Je_HvDrle8FE"
    },
    {
      "metadata": {
        "id": "4f6eb18d2b86594e"
      },
      "cell_type": "code",
      "source": [
        "app = PaperFilteringApp('../config.yaml')"
      ],
      "id": "4f6eb18d2b86594e",
      "outputs": [],
      "execution_count": null
    },
    {
      "cell_type": "markdown",
      "source": [
        "### Run the pipeline"
      ],
      "metadata": {
        "id": "pfd--PwRl0P4"
      },
      "id": "pfd--PwRl0P4"
    },
    {
      "cell_type": "code",
      "source": [
        "app.run()"
      ],
      "metadata": {
        "id": "cwyoS7V3l2tr"
      },
      "id": "cwyoS7V3l2tr",
      "execution_count": null,
      "outputs": []
    },
    {
      "cell_type": "markdown",
      "source": [
        "### Show Statistics"
      ],
      "metadata": {
        "id": "21BTTv-xlrSZ"
      },
      "id": "21BTTv-xlrSZ"
    },
    {
      "cell_type": "code",
      "source": [
        "app.show_statistics()"
      ],
      "metadata": {
        "id": "BNgTeiiMlxqA"
      },
      "id": "BNgTeiiMlxqA",
      "execution_count": null,
      "outputs": []
    }
  ],
  "metadata": {
    "kernelspec": {
      "display_name": "Python 3",
      "language": "python",
      "name": "python3"
    },
    "language_info": {
      "codemirror_mode": {
        "name": "ipython",
        "version": 2
      },
      "file_extension": ".py",
      "mimetype": "text/x-python",
      "name": "python",
      "nbconvert_exporter": "python",
      "pygments_lexer": "ipython2",
      "version": "2.7.6"
    },
    "colab": {
      "provenance": []
    }
  },
  "nbformat": 4,
  "nbformat_minor": 5
}